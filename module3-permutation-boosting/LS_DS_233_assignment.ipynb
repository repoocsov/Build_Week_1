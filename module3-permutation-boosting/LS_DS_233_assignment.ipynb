{
  "nbformat": 4,
  "nbformat_minor": 0,
  "metadata": {
    "kernelspec": {
      "display_name": "Python 3",
      "language": "python",
      "name": "python3"
    },
    "language_info": {
      "codemirror_mode": {
        "name": "ipython",
        "version": 3
      },
      "file_extension": ".py",
      "mimetype": "text/x-python",
      "name": "python",
      "nbconvert_exporter": "python",
      "pygments_lexer": "ipython3",
      "version": "3.7.6"
    },
    "colab": {
      "name": "Monday_assignment.ipynb",
      "provenance": [],
      "collapsed_sections": [],
      "include_colab_link": true
    }
  },
  "cells": [
    {
      "cell_type": "markdown",
      "metadata": {
        "id": "view-in-github",
        "colab_type": "text"
      },
      "source": [
        "<a href=\"https://colab.research.google.com/github/repoocsov/Build_Week_1/blob/master/module3-permutation-boosting/LS_DS_233_assignment.ipynb\" target=\"_parent\"><img src=\"https://colab.research.google.com/assets/colab-badge.svg\" alt=\"Open In Colab\"/></a>"
      ]
    },
    {
      "cell_type": "markdown",
      "metadata": {
        "id": "vNB8zW7AB-tX",
        "colab_type": "text"
      },
      "source": [
        "# **Pre-Model**"
      ]
    },
    {
      "cell_type": "markdown",
      "metadata": {
        "id": "rkjy2ABdCkby",
        "colab_type": "text"
      },
      "source": [
        "### Splitting some Cleaning"
      ]
    },
    {
      "cell_type": "code",
      "metadata": {
        "id": "09BnJSR1-EIe",
        "colab_type": "code",
        "colab": {}
      },
      "source": [
        "import pandas as pd\n",
        "import numpy as np\n",
        "colnames = ['site', 'vendor', 'timestamp', 'score', 'btc_amount', 'comment']\n",
        "df = pd.read_csv('2020-01-13-kilos-6dnms-reviews.csv', error_bad_lines=False, lineterminator='\\n', names=colnames, header=None, encoding='UTF-8')"
      ],
      "execution_count": 0,
      "outputs": []
    },
    {
      "cell_type": "code",
      "metadata": {
        "id": "ob2XlaILpMj7",
        "colab_type": "code",
        "colab": {
          "base_uri": "https://localhost:8080/",
          "height": 34
        },
        "outputId": "0cf56f82-65a8-4c9a-8fb8-f47060f9f43d"
      },
      "source": [
        "df.shape"
      ],
      "execution_count": 2,
      "outputs": [
        {
          "output_type": "execute_result",
          "data": {
            "text/plain": [
              "(235652, 6)"
            ]
          },
          "metadata": {
            "tags": []
          },
          "execution_count": 2
        }
      ]
    },
    {
      "cell_type": "code",
      "metadata": {
        "id": "u_1F_-5FpMvJ",
        "colab_type": "code",
        "colab": {
          "base_uri": "https://localhost:8080/",
          "height": 34
        },
        "outputId": "fcc2b07d-0c3c-4da5-f9fa-c356dd7d99a2"
      },
      "source": [
        "df.columns"
      ],
      "execution_count": 3,
      "outputs": [
        {
          "output_type": "execute_result",
          "data": {
            "text/plain": [
              "Index(['site', 'vendor', 'timestamp', 'score', 'btc_amount', 'comment'], dtype='object')"
            ]
          },
          "metadata": {
            "tags": []
          },
          "execution_count": 3
        }
      ]
    },
    {
      "cell_type": "code",
      "metadata": {
        "id": "uepsZl9QucFt",
        "colab_type": "code",
        "colab": {
          "base_uri": "https://localhost:8080/",
          "height": 197
        },
        "outputId": "ed5d2219-1a7c-4203-c10f-badfb22bf5d7"
      },
      "source": [
        "df.tail(5)"
      ],
      "execution_count": 4,
      "outputs": [
        {
          "output_type": "execute_result",
          "data": {
            "text/html": [
              "<div>\n",
              "<style scoped>\n",
              "    .dataframe tbody tr th:only-of-type {\n",
              "        vertical-align: middle;\n",
              "    }\n",
              "\n",
              "    .dataframe tbody tr th {\n",
              "        vertical-align: top;\n",
              "    }\n",
              "\n",
              "    .dataframe thead th {\n",
              "        text-align: right;\n",
              "    }\n",
              "</style>\n",
              "<table border=\"1\" class=\"dataframe\">\n",
              "  <thead>\n",
              "    <tr style=\"text-align: right;\">\n",
              "      <th></th>\n",
              "      <th>site</th>\n",
              "      <th>vendor</th>\n",
              "      <th>timestamp</th>\n",
              "      <th>score</th>\n",
              "      <th>btc_amount</th>\n",
              "      <th>comment</th>\n",
              "    </tr>\n",
              "  </thead>\n",
              "  <tbody>\n",
              "    <tr>\n",
              "      <th>235647</th>\n",
              "      <td>Apollon</td>\n",
              "      <td>DrSommer</td>\n",
              "      <td>1578825660</td>\n",
              "      <td>1</td>\n",
              "      <td>0.001541</td>\n",
              "      <td>Good stealth, good product</td>\n",
              "    </tr>\n",
              "    <tr>\n",
              "      <th>235648</th>\n",
              "      <td>Apollon</td>\n",
              "      <td>DrSommer</td>\n",
              "      <td>1578827520</td>\n",
              "      <td>1</td>\n",
              "      <td>0.002712</td>\n",
              "      <td>very good</td>\n",
              "    </tr>\n",
              "    <tr>\n",
              "      <th>235649</th>\n",
              "      <td>Apollon</td>\n",
              "      <td>DrSommer</td>\n",
              "      <td>1578827760</td>\n",
              "      <td>1</td>\n",
              "      <td>0.001603</td>\n",
              "      <td>Excellent as usual</td>\n",
              "    </tr>\n",
              "    <tr>\n",
              "      <th>235650</th>\n",
              "      <td>Apollon</td>\n",
              "      <td>DrSommer</td>\n",
              "      <td>1578827820</td>\n",
              "      <td>1</td>\n",
              "      <td>0.001726</td>\n",
              "      <td>Excellent as usual</td>\n",
              "    </tr>\n",
              "    <tr>\n",
              "      <th>235651</th>\n",
              "      <td>Apollon</td>\n",
              "      <td>DrSommer</td>\n",
              "      <td>1578827820</td>\n",
              "      <td>1</td>\n",
              "      <td>0.002096</td>\n",
              "      <td>excellent stealth, fast shipping, original bli...</td>\n",
              "    </tr>\n",
              "  </tbody>\n",
              "</table>\n",
              "</div>"
            ],
            "text/plain": [
              "           site  ...                                            comment\n",
              "235647  Apollon  ...                         Good stealth, good product\n",
              "235648  Apollon  ...                                          very good\n",
              "235649  Apollon  ...                                 Excellent as usual\n",
              "235650  Apollon  ...                                 Excellent as usual\n",
              "235651  Apollon  ...  excellent stealth, fast shipping, original bli...\n",
              "\n",
              "[5 rows x 6 columns]"
            ]
          },
          "metadata": {
            "tags": []
          },
          "execution_count": 4
        }
      ]
    },
    {
      "cell_type": "code",
      "metadata": {
        "id": "F1k2UsG5ezzL",
        "colab_type": "code",
        "colab": {
          "base_uri": "https://localhost:8080/",
          "height": 406
        },
        "outputId": "07b27c46-2ae9-46c2-e8c6-8fafe73cb4e2"
      },
      "source": [
        "import warnings\n",
        "from pandas.core.common import SettingWithCopyWarning\n",
        "warnings.simplefilter(action=\"ignore\", category=SettingWithCopyWarning)\n",
        "\n",
        "# GETTING BTC PRICE ON THOSE DATES\n",
        "''' btc price dataframe '''\n",
        "df2 = pd.read_csv('btc.csv')\n",
        "subset = df2[['PriceUSD', 'date']]\n",
        "subset['date'] = pd.to_datetime(subset['date'], infer_datetime_format=True)\n",
        "\n",
        "\n",
        "''' original dataframe '''\n",
        "\n",
        "# ZEROES CURRENTLY DROPPED\n",
        "#df['timestamp'].replace({0: 1528825660})\n",
        "df['timestamp'][0] = np.nan\n",
        "df['timestamp'] = pd.to_datetime(df['timestamp'], origin='unix', unit='s', utc=True)\n",
        "df['timestamp'] = [x.replace(tzinfo=None).date() for x in df['timestamp']]\n",
        "df['timestamp'] = pd.to_datetime(df['timestamp'])\n",
        "df = pd.merge(df, subset, how='inner', left_on='timestamp', right_on='date')\n",
        "df"
      ],
      "execution_count": 5,
      "outputs": [
        {
          "output_type": "execute_result",
          "data": {
            "text/html": [
              "<div>\n",
              "<style scoped>\n",
              "    .dataframe tbody tr th:only-of-type {\n",
              "        vertical-align: middle;\n",
              "    }\n",
              "\n",
              "    .dataframe tbody tr th {\n",
              "        vertical-align: top;\n",
              "    }\n",
              "\n",
              "    .dataframe thead th {\n",
              "        text-align: right;\n",
              "    }\n",
              "</style>\n",
              "<table border=\"1\" class=\"dataframe\">\n",
              "  <thead>\n",
              "    <tr style=\"text-align: right;\">\n",
              "      <th></th>\n",
              "      <th>site</th>\n",
              "      <th>vendor</th>\n",
              "      <th>timestamp</th>\n",
              "      <th>score</th>\n",
              "      <th>btc_amount</th>\n",
              "      <th>comment</th>\n",
              "      <th>PriceUSD</th>\n",
              "      <th>date</th>\n",
              "    </tr>\n",
              "  </thead>\n",
              "  <tbody>\n",
              "    <tr>\n",
              "      <th>0</th>\n",
              "      <td>Empire</td>\n",
              "      <td>ofgrey</td>\n",
              "      <td>2018-02-19</td>\n",
              "      <td>1</td>\n",
              "      <td>0.002418</td>\n",
              "      <td>Good quality product, everything is very well ...</td>\n",
              "      <td>11139.355730</td>\n",
              "      <td>2018-02-19</td>\n",
              "    </tr>\n",
              "    <tr>\n",
              "      <th>1</th>\n",
              "      <td>Empire</td>\n",
              "      <td>ofgrey</td>\n",
              "      <td>2018-02-19</td>\n",
              "      <td>1</td>\n",
              "      <td>0.000092</td>\n",
              "      <td>good best price thank you</td>\n",
              "      <td>11139.355730</td>\n",
              "      <td>2018-02-19</td>\n",
              "    </tr>\n",
              "    <tr>\n",
              "      <th>2</th>\n",
              "      <td>Empire</td>\n",
              "      <td>ofgrey</td>\n",
              "      <td>2018-02-19</td>\n",
              "      <td>1</td>\n",
              "      <td>0.002418</td>\n",
              "      <td>Best vendor !!!</td>\n",
              "      <td>11139.355730</td>\n",
              "      <td>2018-02-19</td>\n",
              "    </tr>\n",
              "    <tr>\n",
              "      <th>3</th>\n",
              "      <td>Empire</td>\n",
              "      <td>ofgrey</td>\n",
              "      <td>2018-02-19</td>\n",
              "      <td>1</td>\n",
              "      <td>0.000150</td>\n",
              "      <td>good thank you</td>\n",
              "      <td>11139.355730</td>\n",
              "      <td>2018-02-19</td>\n",
              "    </tr>\n",
              "    <tr>\n",
              "      <th>4</th>\n",
              "      <td>Empire</td>\n",
              "      <td>DrunkDragon</td>\n",
              "      <td>2018-03-02</td>\n",
              "      <td>-1</td>\n",
              "      <td>0.000113</td>\n",
              "      <td>scam,scam scam,save urself the trouble.SCAM.</td>\n",
              "      <td>11014.058470</td>\n",
              "      <td>2018-03-02</td>\n",
              "    </tr>\n",
              "    <tr>\n",
              "      <th>...</th>\n",
              "      <td>...</td>\n",
              "      <td>...</td>\n",
              "      <td>...</td>\n",
              "      <td>...</td>\n",
              "      <td>...</td>\n",
              "      <td>...</td>\n",
              "      <td>...</td>\n",
              "      <td>...</td>\n",
              "    </tr>\n",
              "    <tr>\n",
              "      <th>225409</th>\n",
              "      <td>Apollon</td>\n",
              "      <td>DrSommer</td>\n",
              "      <td>2020-01-12</td>\n",
              "      <td>1</td>\n",
              "      <td>0.001541</td>\n",
              "      <td>Good stealth, good product</td>\n",
              "      <td>8164.549993</td>\n",
              "      <td>2020-01-12</td>\n",
              "    </tr>\n",
              "    <tr>\n",
              "      <th>225410</th>\n",
              "      <td>Apollon</td>\n",
              "      <td>DrSommer</td>\n",
              "      <td>2020-01-12</td>\n",
              "      <td>1</td>\n",
              "      <td>0.002712</td>\n",
              "      <td>very good</td>\n",
              "      <td>8164.549993</td>\n",
              "      <td>2020-01-12</td>\n",
              "    </tr>\n",
              "    <tr>\n",
              "      <th>225411</th>\n",
              "      <td>Apollon</td>\n",
              "      <td>DrSommer</td>\n",
              "      <td>2020-01-12</td>\n",
              "      <td>1</td>\n",
              "      <td>0.001603</td>\n",
              "      <td>Excellent as usual</td>\n",
              "      <td>8164.549993</td>\n",
              "      <td>2020-01-12</td>\n",
              "    </tr>\n",
              "    <tr>\n",
              "      <th>225412</th>\n",
              "      <td>Apollon</td>\n",
              "      <td>DrSommer</td>\n",
              "      <td>2020-01-12</td>\n",
              "      <td>1</td>\n",
              "      <td>0.001726</td>\n",
              "      <td>Excellent as usual</td>\n",
              "      <td>8164.549993</td>\n",
              "      <td>2020-01-12</td>\n",
              "    </tr>\n",
              "    <tr>\n",
              "      <th>225413</th>\n",
              "      <td>Apollon</td>\n",
              "      <td>DrSommer</td>\n",
              "      <td>2020-01-12</td>\n",
              "      <td>1</td>\n",
              "      <td>0.002096</td>\n",
              "      <td>excellent stealth, fast shipping, original bli...</td>\n",
              "      <td>8164.549993</td>\n",
              "      <td>2020-01-12</td>\n",
              "    </tr>\n",
              "  </tbody>\n",
              "</table>\n",
              "<p>225414 rows × 8 columns</p>\n",
              "</div>"
            ],
            "text/plain": [
              "           site       vendor  ...      PriceUSD       date\n",
              "0        Empire       ofgrey  ...  11139.355730 2018-02-19\n",
              "1        Empire       ofgrey  ...  11139.355730 2018-02-19\n",
              "2        Empire       ofgrey  ...  11139.355730 2018-02-19\n",
              "3        Empire       ofgrey  ...  11139.355730 2018-02-19\n",
              "4        Empire  DrunkDragon  ...  11014.058470 2018-03-02\n",
              "...         ...          ...  ...           ...        ...\n",
              "225409  Apollon     DrSommer  ...   8164.549993 2020-01-12\n",
              "225410  Apollon     DrSommer  ...   8164.549993 2020-01-12\n",
              "225411  Apollon     DrSommer  ...   8164.549993 2020-01-12\n",
              "225412  Apollon     DrSommer  ...   8164.549993 2020-01-12\n",
              "225413  Apollon     DrSommer  ...   8164.549993 2020-01-12\n",
              "\n",
              "[225414 rows x 8 columns]"
            ]
          },
          "metadata": {
            "tags": []
          },
          "execution_count": 5
        }
      ]
    },
    {
      "cell_type": "code",
      "metadata": {
        "id": "cn5n5YZ1pM3n",
        "colab_type": "code",
        "colab": {
          "base_uri": "https://localhost:8080/",
          "height": 87
        },
        "outputId": "822d1df7-731a-4737-85f7-6d2a4b362c6d"
      },
      "source": [
        "\"\"\" FEATURES \"\"\"\n",
        "# CATAGORICAL: site, vendor, comment\n",
        "# NUMERIC: timestamp, btc_amount\n",
        "\n",
        "\"\"\" TARGET \"\"\"\n",
        "# score\n",
        "\n",
        "\n",
        "# Score represents the sentiment of the comment associated with the purchase. 1 being positive, 0 neutral, and -1 negative.\n",
        "# In addition to the accuracy metric...‘balanced_accuracy’ as there is a heavy class imbalance.\n",
        "\n",
        "# Distribution of the target\n",
        "\"\"\"\n",
        " 93.9% positive\n",
        " 3.2% negative\n",
        " 2.8% neutral\n",
        "\n",
        " This is a multi-class classification problem with three categories.\n",
        " The mean baseline is 93.9 %\n",
        "\"\"\"\n",
        "df['score'].value_counts(normalize=True)"
      ],
      "execution_count": 6,
      "outputs": [
        {
          "output_type": "execute_result",
          "data": {
            "text/plain": [
              " 1    0.938526\n",
              "-1    0.032079\n",
              " 0    0.029395\n",
              "Name: score, dtype: float64"
            ]
          },
          "metadata": {
            "tags": []
          },
          "execution_count": 6
        }
      ]
    },
    {
      "cell_type": "code",
      "metadata": {
        "id": "jqszM0t0tbjF",
        "colab_type": "code",
        "colab": {
          "base_uri": "https://localhost:8080/",
          "height": 141
        },
        "outputId": "04cd496f-5137-4a99-aa8f-d54f09b64606"
      },
      "source": [
        "df['timestamp'].describe()"
      ],
      "execution_count": 7,
      "outputs": [
        {
          "output_type": "execute_result",
          "data": {
            "text/plain": [
              "count                  225414\n",
              "unique                    654\n",
              "top       2019-11-06 00:00:00\n",
              "freq                     2505\n",
              "first     2018-02-19 00:00:00\n",
              "last      2020-01-12 00:00:00\n",
              "Name: timestamp, dtype: object"
            ]
          },
          "metadata": {
            "tags": []
          },
          "execution_count": 7
        }
      ]
    },
    {
      "cell_type": "code",
      "metadata": {
        "id": "ygxKjezcv8bz",
        "colab_type": "code",
        "colab": {}
      },
      "source": [
        "# timestamp has missing values (zeros). It would be nice to split the data this way otherwise.\n",
        "# Order of stratification importance...\n",
        "# score, timestamp/site\n",
        "from sklearn.model_selection import train_test_split\n",
        "\n",
        "target = 'score'\n",
        "features = ['site', 'vendor', 'btc_amount', 'comment', 'PriceUSD', 'date']\n",
        "\n",
        "y_df = df[target]\n",
        "X_df = df[features]\n",
        "\n",
        "X_train, X_test, y_train, y_test = train_test_split(X_df, y_df, test_size=0.2, random_state=42, stratify=y_df)"
      ],
      "execution_count": 0,
      "outputs": []
    },
    {
      "cell_type": "code",
      "metadata": {
        "id": "2xCknnzDMhJI",
        "colab_type": "code",
        "colab": {
          "base_uri": "https://localhost:8080/",
          "height": 34
        },
        "outputId": "2e39dbf3-aef9-4abb-b92f-2090e0c829f0"
      },
      "source": [
        "X_train.shape, X_test.shape, y_train.shape, y_test.shape"
      ],
      "execution_count": 9,
      "outputs": [
        {
          "output_type": "execute_result",
          "data": {
            "text/plain": [
              "((180331, 6), (45083, 6), (180331,), (45083,))"
            ]
          },
          "metadata": {
            "tags": []
          },
          "execution_count": 9
        }
      ]
    },
    {
      "cell_type": "code",
      "metadata": {
        "id": "VLrHUOI5Munu",
        "colab_type": "code",
        "colab": {
          "base_uri": "https://localhost:8080/",
          "height": 34
        },
        "outputId": "cb76b66b-9217-42cb-865e-61475b31e339"
      },
      "source": [
        "# Repeating to get a validation set\n",
        "X_train, X_val, y_train, y_val = train_test_split(X_train, y_train, test_size=0.2, random_state=49, stratify=y_train)\n",
        "\n",
        "X_train.shape, X_val.shape, X_test.shape"
      ],
      "execution_count": 10,
      "outputs": [
        {
          "output_type": "execute_result",
          "data": {
            "text/plain": [
              "((144264, 6), (36067, 6), (45083, 6))"
            ]
          },
          "metadata": {
            "tags": []
          },
          "execution_count": 10
        }
      ]
    },
    {
      "cell_type": "markdown",
      "metadata": {
        "id": "4JcGj9LqCcd-",
        "colab_type": "text"
      },
      "source": [
        "### Wrangle"
      ]
    },
    {
      "cell_type": "code",
      "metadata": {
        "id": "foJcAjXxPXx6",
        "colab_type": "code",
        "colab": {}
      },
      "source": [
        "\"\"\" WRANGLE FUNCTION \"\"\"\n",
        "\n",
        "def wrangle(dataframe):\n",
        "\n",
        "  # DATE\n",
        "  dataframe['date'] = dataframe['date'].astype(int)\n",
        "\n",
        "  # COMMENTS\n",
        "  dataframe['comment'] = dataframe['comment'].replace(np.nan, '')\n",
        "\n",
        "  # DOLLAR VALUE\n",
        "  dataframe['price'] = dataframe['PriceUSD'] * dataframe['btc_amount']\n",
        "\n",
        "  # RENAMING COLUMNS\n",
        "  dataframe = dataframe.rename({'priceUSD': 'bitcoin_price'})\n",
        "\n",
        "  # ORGANIZING COLUMNS\n",
        "  dataframe = dataframe.reindex(columns=['site', 'vendor', 'date', 'comment', 'price', 'btc_amount'])\n",
        "\n",
        "  return dataframe"
      ],
      "execution_count": 0,
      "outputs": []
    },
    {
      "cell_type": "code",
      "metadata": {
        "id": "_OJsj32jQTHE",
        "colab_type": "code",
        "colab": {
          "base_uri": "https://localhost:8080/",
          "height": 406
        },
        "outputId": "79bccd4f-716d-4bea-88ef-6b44d2ea1da3"
      },
      "source": [
        "wrangle(X_train)\n",
        "wrangle(X_val)\n",
        "wrangle(X_test)"
      ],
      "execution_count": 12,
      "outputs": [
        {
          "output_type": "execute_result",
          "data": {
            "text/html": [
              "<div>\n",
              "<style scoped>\n",
              "    .dataframe tbody tr th:only-of-type {\n",
              "        vertical-align: middle;\n",
              "    }\n",
              "\n",
              "    .dataframe tbody tr th {\n",
              "        vertical-align: top;\n",
              "    }\n",
              "\n",
              "    .dataframe thead th {\n",
              "        text-align: right;\n",
              "    }\n",
              "</style>\n",
              "<table border=\"1\" class=\"dataframe\">\n",
              "  <thead>\n",
              "    <tr style=\"text-align: right;\">\n",
              "      <th></th>\n",
              "      <th>site</th>\n",
              "      <th>vendor</th>\n",
              "      <th>date</th>\n",
              "      <th>comment</th>\n",
              "      <th>price</th>\n",
              "      <th>btc_amount</th>\n",
              "    </tr>\n",
              "  </thead>\n",
              "  <tbody>\n",
              "    <tr>\n",
              "      <th>7158</th>\n",
              "      <td>Cannazon</td>\n",
              "      <td>Briefsoven</td>\n",
              "      <td>1555977600000000000</td>\n",
              "      <td>Came very quickly, excellent quality, great pr...</td>\n",
              "      <td>34.435427</td>\n",
              "      <td>0.006210</td>\n",
              "    </tr>\n",
              "    <tr>\n",
              "      <th>19599</th>\n",
              "      <td>Cannazon</td>\n",
              "      <td>radarbreeder</td>\n",
              "      <td>1559606400000000000</td>\n",
              "      <td>all perfect, thanks</td>\n",
              "      <td>58.453416</td>\n",
              "      <td>0.007641</td>\n",
              "    </tr>\n",
              "    <tr>\n",
              "      <th>80494</th>\n",
              "      <td>Apollon</td>\n",
              "      <td>youngbanger</td>\n",
              "      <td>1568246400000000000</td>\n",
              "      <td>Fucking good stuff,fucking great stealth shipp...</td>\n",
              "      <td>63.783312</td>\n",
              "      <td>0.006131</td>\n",
              "    </tr>\n",
              "    <tr>\n",
              "      <th>45774</th>\n",
              "      <td>Empire</td>\n",
              "      <td>DrunkDragon</td>\n",
              "      <td>1564704000000000000</td>\n",
              "      <td>750 000 codes 0 correct so I don't believe in ...</td>\n",
              "      <td>1.206703</td>\n",
              "      <td>0.000115</td>\n",
              "    </tr>\n",
              "    <tr>\n",
              "      <th>44418</th>\n",
              "      <td>Empire</td>\n",
              "      <td>SATAII</td>\n",
              "      <td>1564531200000000000</td>\n",
              "      <td>No feedback comment</td>\n",
              "      <td>68.810629</td>\n",
              "      <td>0.006841</td>\n",
              "    </tr>\n",
              "    <tr>\n",
              "      <th>...</th>\n",
              "      <td>...</td>\n",
              "      <td>...</td>\n",
              "      <td>...</td>\n",
              "      <td>...</td>\n",
              "      <td>...</td>\n",
              "      <td>...</td>\n",
              "    </tr>\n",
              "    <tr>\n",
              "      <th>109950</th>\n",
              "      <td>Empire</td>\n",
              "      <td>DrHappy</td>\n",
              "      <td>1570579200000000000</td>\n",
              "      <td>Schnelle Lieferung, gute Ware \\r\\nGerne wieder</td>\n",
              "      <td>197.872553</td>\n",
              "      <td>0.023013</td>\n",
              "    </tr>\n",
              "    <tr>\n",
              "      <th>10944</th>\n",
              "      <td>Cannazon</td>\n",
              "      <td>Bllume</td>\n",
              "      <td>1557532800000000000</td>\n",
              "      <td>2DD fr den preis super Zeug! sehr freundlicher...</td>\n",
              "      <td>274.078230</td>\n",
              "      <td>0.037416</td>\n",
              "    </tr>\n",
              "    <tr>\n",
              "      <th>112814</th>\n",
              "      <td>Apollon</td>\n",
              "      <td>Germanapotheke</td>\n",
              "      <td>1570752000000000000</td>\n",
              "      <td>Danke perfekt</td>\n",
              "      <td>0.901041</td>\n",
              "      <td>0.000109</td>\n",
              "    </tr>\n",
              "    <tr>\n",
              "      <th>79125</th>\n",
              "      <td>Cryptonia</td>\n",
              "      <td>aKINDercare</td>\n",
              "      <td>1568073600000000000</td>\n",
              "      <td>recommend this vendor and product.</td>\n",
              "      <td>29.249261</td>\n",
              "      <td>0.002900</td>\n",
              "    </tr>\n",
              "    <tr>\n",
              "      <th>55707</th>\n",
              "      <td>Empire</td>\n",
              "      <td>ubuntu009</td>\n",
              "      <td>1565827200000000000</td>\n",
              "      <td>No feedback comment</td>\n",
              "      <td>35.944052</td>\n",
              "      <td>0.003486</td>\n",
              "    </tr>\n",
              "  </tbody>\n",
              "</table>\n",
              "<p>45083 rows × 6 columns</p>\n",
              "</div>"
            ],
            "text/plain": [
              "             site          vendor  ...       price btc_amount\n",
              "7158     Cannazon      Briefsoven  ...   34.435427   0.006210\n",
              "19599    Cannazon    radarbreeder  ...   58.453416   0.007641\n",
              "80494     Apollon     youngbanger  ...   63.783312   0.006131\n",
              "45774      Empire     DrunkDragon  ...    1.206703   0.000115\n",
              "44418      Empire          SATAII  ...   68.810629   0.006841\n",
              "...           ...             ...  ...         ...        ...\n",
              "109950     Empire         DrHappy  ...  197.872553   0.023013\n",
              "10944    Cannazon          Bllume  ...  274.078230   0.037416\n",
              "112814    Apollon  Germanapotheke  ...    0.901041   0.000109\n",
              "79125   Cryptonia     aKINDercare  ...   29.249261   0.002900\n",
              "55707      Empire       ubuntu009  ...   35.944052   0.003486\n",
              "\n",
              "[45083 rows x 6 columns]"
            ]
          },
          "metadata": {
            "tags": []
          },
          "execution_count": 12
        }
      ]
    },
    {
      "cell_type": "markdown",
      "metadata": {
        "id": "7B6uUDrlOcal",
        "colab_type": "text"
      },
      "source": [
        "# **Building a Model**"
      ]
    },
    {
      "cell_type": "code",
      "metadata": {
        "id": "2YFO5xzT-dSZ",
        "colab_type": "code",
        "colab": {}
      },
      "source": [
        "%%capture\n",
        "import sys\n",
        "import numpy as np\n",
        "import pandas as pd\n",
        "\n",
        "# If you're on Colab:\n",
        "if 'google.colab' in sys.modules:\n",
        "    DATA_PATH = 'https://raw.githubusercontent.com/LambdaSchool/DS-Unit-2-Kaggle-Challenge/master/data/'\n",
        "    !pip install category_encoders==2.*\n",
        "    !pip install eli5"
      ],
      "execution_count": 0,
      "outputs": []
    },
    {
      "cell_type": "code",
      "metadata": {
        "id": "hBLNFEzPOgzZ",
        "colab_type": "code",
        "colab": {
          "base_uri": "https://localhost:8080/",
          "height": 550
        },
        "outputId": "6f404f77-5323-4889-b1cc-fa0b0cb088c8"
      },
      "source": [
        "import numpy as np\n",
        "from sklearn.ensemble import RandomForestClassifier\n",
        "import category_encoders as ce\n",
        "from sklearn.pipeline import make_pipeline\n",
        "\n",
        "pipeline = make_pipeline(\n",
        "    ce.OrdinalEncoder(),\n",
        "    RandomForestClassifier() \n",
        ")\n",
        "\n",
        "pipeline.fit(X_train, y_train)"
      ],
      "execution_count": 14,
      "outputs": [
        {
          "output_type": "execute_result",
          "data": {
            "text/plain": [
              "Pipeline(memory=None,\n",
              "         steps=[('ordinalencoder',\n",
              "                 OrdinalEncoder(cols=['site', 'vendor', 'comment'],\n",
              "                                drop_invariant=False, handle_missing='value',\n",
              "                                handle_unknown='value',\n",
              "                                mapping=[{'col': 'site',\n",
              "                                          'data_type': dtype('O'),\n",
              "                                          'mapping': Cryptonia    1\n",
              "Empire       2\n",
              "Apollon      3\n",
              "CannaHome    4\n",
              "Cannazon     5\n",
              "NaN         -2\n",
              "dtype: int64},\n",
              "                                         {'col': 'vendor',\n",
              "                                          'data_type': dtype('O'),\n",
              "                                          'mapping': valhalla              1\n",
              "PremierLeague...\n",
              "                 RandomForestClassifier(bootstrap=True, ccp_alpha=0.0,\n",
              "                                        class_weight=None, criterion='gini',\n",
              "                                        max_depth=None, max_features='auto',\n",
              "                                        max_leaf_nodes=None, max_samples=None,\n",
              "                                        min_impurity_decrease=0.0,\n",
              "                                        min_impurity_split=None,\n",
              "                                        min_samples_leaf=1, min_samples_split=2,\n",
              "                                        min_weight_fraction_leaf=0.0,\n",
              "                                        n_estimators=100, n_jobs=None,\n",
              "                                        oob_score=False, random_state=None,\n",
              "                                        verbose=0, warm_start=False))],\n",
              "         verbose=False)"
            ]
          },
          "metadata": {
            "tags": []
          },
          "execution_count": 14
        }
      ]
    },
    {
      "cell_type": "code",
      "metadata": {
        "id": "-bTgKKy3_Fwf",
        "colab_type": "code",
        "colab": {
          "base_uri": "https://localhost:8080/",
          "height": 34
        },
        "outputId": "d36abfce-aab9-4137-e0f5-e482af625747"
      },
      "source": [
        "# ACCURACY SCORE (BASELINE WAS ~.93)\n",
        "print(\"The accuracy is:\", pipeline.score(X_val, y_val))"
      ],
      "execution_count": 15,
      "outputs": [
        {
          "output_type": "stream",
          "text": [
            "The accuracy is: 0.9472925388859622\n"
          ],
          "name": "stdout"
        }
      ]
    },
    {
      "cell_type": "code",
      "metadata": {
        "id": "eUhgPw--A8dj",
        "colab_type": "code",
        "colab": {
          "base_uri": "https://localhost:8080/",
          "height": 34
        },
        "outputId": "2d80e171-6be5-440a-85ad-8005cd0515e5"
      },
      "source": [
        "# AVERAGE RECALL SCORE\n",
        "from sklearn.metrics import balanced_accuracy_score\n",
        "\n",
        "\"\"\"\n",
        "The balanced accuracy in binary and multiclass classification problems to deal with imbalanced datasets.\n",
        "It is defined as the average of recall obtained on each class.\n",
        "\"\"\"\n",
        "''' Recall literally is how many of the true positives were recalled (found), i.e. how many of the correct hits were also found. '''\n",
        "\n",
        "y_pred = [1] * len(y_val)\n",
        "print(\"The average recall with just guessing 1 for every instance is:\", balanced_accuracy_score(y_val, y_pred))"
      ],
      "execution_count": 16,
      "outputs": [
        {
          "output_type": "stream",
          "text": [
            "The average recall with just guessing 1 for every instance is: 0.3333333333333333\n"
          ],
          "name": "stdout"
        }
      ]
    },
    {
      "cell_type": "code",
      "metadata": {
        "id": "5H36u1Sc_378",
        "colab_type": "code",
        "colab": {
          "base_uri": "https://localhost:8080/",
          "height": 34
        },
        "outputId": "2bbcfd77-f24c-4816-8fba-db68129e6a20"
      },
      "source": [
        "y_pred = pipeline.predict(X_val)\n",
        "print(\"The average recall is with the model:\", balanced_accuracy_score(y_val, y_pred))"
      ],
      "execution_count": 17,
      "outputs": [
        {
          "output_type": "stream",
          "text": [
            "The average recall is with the model: 0.4480461956453882\n"
          ],
          "name": "stdout"
        }
      ]
    },
    {
      "cell_type": "markdown",
      "metadata": {
        "id": "FfoT_3yDLthz",
        "colab_type": "text"
      },
      "source": [
        "### XGBoost Model\n"
      ]
    },
    {
      "cell_type": "code",
      "metadata": {
        "id": "CXTC0BceLxCu",
        "colab_type": "code",
        "colab": {
          "base_uri": "https://localhost:8080/",
          "height": 606
        },
        "outputId": "996b0a73-1b2c-4288-d4f8-cf2738cafcf5"
      },
      "source": [
        "\"\"\" NORMAL FEATURE IMPORTANCE \"\"\"\n",
        "rf = pipeline.named_steps['randomforestclassifier']\n",
        "importances = pd.Series(rf.feature_importances_, X_train.columns)\n",
        "\n",
        "# Plot feature importances\n",
        "%matplotlib inline\n",
        "import matplotlib.pyplot as plt\n",
        "\n",
        "n = 20\n",
        "plt.figure(figsize=(10,n/2))\n",
        "plt.title(f'Top {n} features')\n",
        "importances.sort_values()[-n:].plot.barh(color='grey');"
      ],
      "execution_count": 18,
      "outputs": [
        {
          "output_type": "display_data",
          "data": {
            "image/png": "[encoded data removed]",
            "text/plain": [
              "<Figure size 720x720 with 1 Axes>"
            ]
          },
          "metadata": {
            "tags": []
          }
        }
      ]
    },
    {
      "cell_type": "code",
      "metadata": {
        "id": "ztFcPGagMIzI",
        "colab_type": "code",
        "colab": {
          "base_uri": "https://localhost:8080/",
          "height": 141
        },
        "outputId": "99c58f8e-4750-469d-b670-87efaaa72333"
      },
      "source": [
        "\"\"\" PERMUTATION FEATURE IMPORTANCE \"\"\"\n",
        "from sklearn.impute import SimpleImputer\n",
        "from xgboost import XGBClassifier\n",
        "\n",
        "transformers = make_pipeline(\n",
        "    ce.OrdinalEncoder(), \n",
        "    SimpleImputer(strategy='median')\n",
        ")\n",
        "\n",
        "X_train_transformed = transformers.fit_transform(X_train)\n",
        "X_val_transformed = transformers.transform(X_val)\n",
        "\n",
        "model = XGBClassifier(n_estimators=100, random_state=42, n_jobs=-1)\n",
        "model.fit(X_train_transformed, y_train)"
      ],
      "execution_count": 19,
      "outputs": [
        {
          "output_type": "execute_result",
          "data": {
            "text/plain": [
              "XGBClassifier(base_score=0.5, booster='gbtree', colsample_bylevel=1,\n",
              "              colsample_bynode=1, colsample_bytree=1, gamma=0,\n",
              "              learning_rate=0.1, max_delta_step=0, max_depth=3,\n",
              "              min_child_weight=1, missing=None, n_estimators=100, n_jobs=-1,\n",
              "              nthread=None, objective='multi:softprob', random_state=42,\n",
              "              reg_alpha=0, reg_lambda=1, scale_pos_weight=1, seed=None,\n",
              "              silent=None, subsample=1, verbosity=1)"
            ]
          },
          "metadata": {
            "tags": []
          },
          "execution_count": 19
        }
      ]
    },
    {
      "cell_type": "code",
      "metadata": {
        "id": "2Oksnb5vNIDj",
        "colab_type": "code",
        "colab": {
          "base_uri": "https://localhost:8080/",
          "height": 474
        },
        "outputId": "ea6decec-0c78-4c22-8b30-18bf78e425cb"
      },
      "source": [
        "import eli5\n",
        "from eli5.sklearn import PermutationImportance\n",
        "\n",
        "permuter = PermutationImportance(\n",
        "    model, \n",
        "    scoring='accuracy', \n",
        "    n_iter=5, \n",
        "    random_state=42\n",
        ")\n",
        "\n",
        "permuter.fit(X_val_transformed, y_val)"
      ],
      "execution_count": 20,
      "outputs": [
        {
          "output_type": "stream",
          "text": [
            "/usr/local/lib/python3.6/dist-packages/sklearn/utils/deprecation.py:144: FutureWarning: The sklearn.metrics.scorer module is  deprecated in version 0.22 and will be removed in version 0.24. The corresponding classes / functions should instead be imported from sklearn.metrics. Anything that cannot be imported from sklearn.metrics is now part of the private API.\n",
            "  warnings.warn(message, FutureWarning)\n",
            "/usr/local/lib/python3.6/dist-packages/sklearn/utils/deprecation.py:144: FutureWarning: The sklearn.feature_selection.base module is  deprecated in version 0.22 and will be removed in version 0.24. The corresponding classes / functions should instead be imported from sklearn.feature_selection. Anything that cannot be imported from sklearn.feature_selection is now part of the private API.\n",
            "  warnings.warn(message, FutureWarning)\n",
            "Using TensorFlow backend.\n"
          ],
          "name": "stderr"
        },
        {
          "output_type": "display_data",
          "data": {
            "text/html": [
              "<p style=\"color: red;\">\n",
              "The default version of TensorFlow in Colab will soon switch to TensorFlow 2.x.<br>\n",
              "We recommend you <a href=\"https://www.tensorflow.org/guide/migrate\" target=\"_blank\">upgrade</a> now \n",
              "or ensure your notebook will continue to use TensorFlow 1.x via the <code>%tensorflow_version 1.x</code> magic:\n",
              "<a href=\"https://colab.research.google.com/notebooks/tensorflow_version.ipynb\" target=\"_blank\">more info</a>.</p>\n"
            ],
            "text/plain": [
              "<IPython.core.display.HTML object>"
            ]
          },
          "metadata": {
            "tags": []
          }
        },
        {
          "output_type": "execute_result",
          "data": {
            "text/plain": [
              "PermutationImportance(cv='prefit',\n",
              "                      estimator=XGBClassifier(base_score=0.5, booster='gbtree',\n",
              "                                              colsample_bylevel=1,\n",
              "                                              colsample_bynode=1,\n",
              "                                              colsample_bytree=1, gamma=0,\n",
              "                                              learning_rate=0.1,\n",
              "                                              max_delta_step=0, max_depth=3,\n",
              "                                              min_child_weight=1, missing=None,\n",
              "                                              n_estimators=100, n_jobs=-1,\n",
              "                                              nthread=None,\n",
              "                                              objective='multi:softprob',\n",
              "                                              random_state=42, reg_alpha=0,\n",
              "                                              reg_lambda=1, scale_pos_weight=1,\n",
              "                                              seed=None, silent=None,\n",
              "                                              subsample=1, verbosity=1),\n",
              "                      n_iter=5, random_state=42, refit=True,\n",
              "                      scoring='accuracy')"
            ]
          },
          "metadata": {
            "tags": []
          },
          "execution_count": 20
        }
      ]
    },
    {
      "cell_type": "code",
      "metadata": {
        "id": "QblJyESwNq_d",
        "colab_type": "code",
        "colab": {
          "base_uri": "https://localhost:8080/",
          "height": 158
        },
        "outputId": "6ea8d8e7-7254-4388-fccf-66f7e014e17c"
      },
      "source": [
        "feature_names = X_val.columns.tolist()\n",
        "pd.Series(permuter.feature_importances_, feature_names).sort_values()"
      ],
      "execution_count": 21,
      "outputs": [
        {
          "output_type": "execute_result",
          "data": {
            "text/plain": [
              "comment      -0.000028\n",
              "price         0.000172\n",
              "PriceUSD      0.000227\n",
              "site          0.000560\n",
              "btc_amount    0.000821\n",
              "vendor        0.000976\n",
              "date          0.001026\n",
              "dtype: float64"
            ]
          },
          "metadata": {
            "tags": []
          },
          "execution_count": 21
        }
      ]
    },
    {
      "cell_type": "code",
      "metadata": {
        "id": "qVNZQzmyPOye",
        "colab_type": "code",
        "colab": {
          "base_uri": "https://localhost:8080/",
          "height": 150
        },
        "outputId": "f1d5c608-8f1f-4380-d816-f0e424598b00"
      },
      "source": [
        "eli5.show_weights(\n",
        "    permuter, \n",
        "    top=None, # No limit: show permutation importances for all features\n",
        "    feature_names=feature_names # must be a list\n",
        ")"
      ],
      "execution_count": 25,
      "outputs": [
        {
          "output_type": "execute_result",
          "data": {
            "text/html": [
              "\n",
              "    <style>\n",
              "    table.eli5-weights tr:hover {\n",
              "        filter: brightness(85%);\n",
              "    }\n",
              "</style>\n",
              "\n",
              "\n",
              "\n",
              "    \n",
              "\n",
              "    \n",
              "\n",
              "    \n",
              "\n",
              "    \n",
              "\n",
              "    \n",
              "\n",
              "    \n",
              "\n",
              "\n",
              "    \n",
              "\n",
              "    \n",
              "\n",
              "    \n",
              "\n",
              "    \n",
              "\n",
              "    \n",
              "\n",
              "    \n",
              "\n",
              "\n",
              "    \n",
              "\n",
              "    \n",
              "\n",
              "    \n",
              "\n",
              "    \n",
              "\n",
              "    \n",
              "        <table class=\"eli5-weights eli5-feature-importances\" style=\"border-collapse: collapse; border: none; margin-top: 0em; table-layout: auto;\">\n",
              "    <thead>\n",
              "    <tr style=\"border: none;\">\n",
              "        <th style=\"padding: 0 1em 0 0.5em; text-align: right; border: none;\">Weight</th>\n",
              "        <th style=\"padding: 0 0.5em 0 0.5em; text-align: left; border: none;\">Feature</th>\n",
              "    </tr>\n",
              "    </thead>\n",
              "    <tbody>\n",
              "    \n",
              "        <tr style=\"background-color: hsl(120, 100.00%, 80.00%); border: none;\">\n",
              "            <td style=\"padding: 0 1em 0 0.5em; text-align: right; border: none;\">\n",
              "                0.0010\n",
              "                \n",
              "                    &plusmn; 0.0004\n",
              "                \n",
              "            </td>\n",
              "            <td style=\"padding: 0 0.5em 0 0.5em; text-align: left; border: none;\">\n",
              "                date\n",
              "            </td>\n",
              "        </tr>\n",
              "    \n",
              "        <tr style=\"background-color: hsl(120, 100.00%, 80.69%); border: none;\">\n",
              "            <td style=\"padding: 0 1em 0 0.5em; text-align: right; border: none;\">\n",
              "                0.0010\n",
              "                \n",
              "                    &plusmn; 0.0001\n",
              "                \n",
              "            </td>\n",
              "            <td style=\"padding: 0 0.5em 0 0.5em; text-align: left; border: none;\">\n",
              "                vendor\n",
              "            </td>\n",
              "        </tr>\n",
              "    \n",
              "        <tr style=\"background-color: hsl(120, 100.00%, 82.89%); border: none;\">\n",
              "            <td style=\"padding: 0 1em 0 0.5em; text-align: right; border: none;\">\n",
              "                0.0008\n",
              "                \n",
              "                    &plusmn; 0.0001\n",
              "                \n",
              "            </td>\n",
              "            <td style=\"padding: 0 0.5em 0 0.5em; text-align: left; border: none;\">\n",
              "                btc_amount\n",
              "            </td>\n",
              "        </tr>\n",
              "    \n",
              "        <tr style=\"background-color: hsl(120, 100.00%, 86.91%); border: none;\">\n",
              "            <td style=\"padding: 0 1em 0 0.5em; text-align: right; border: none;\">\n",
              "                0.0006\n",
              "                \n",
              "                    &plusmn; 0.0001\n",
              "                \n",
              "            </td>\n",
              "            <td style=\"padding: 0 0.5em 0 0.5em; text-align: left; border: none;\">\n",
              "                site\n",
              "            </td>\n",
              "        </tr>\n",
              "    \n",
              "        <tr style=\"background-color: hsl(120, 100.00%, 93.03%); border: none;\">\n",
              "            <td style=\"padding: 0 1em 0 0.5em; text-align: right; border: none;\">\n",
              "                0.0002\n",
              "                \n",
              "                    &plusmn; 0.0000\n",
              "                \n",
              "            </td>\n",
              "            <td style=\"padding: 0 0.5em 0 0.5em; text-align: left; border: none;\">\n",
              "                PriceUSD\n",
              "            </td>\n",
              "        </tr>\n",
              "    \n",
              "        <tr style=\"background-color: hsl(120, 100.00%, 94.27%); border: none;\">\n",
              "            <td style=\"padding: 0 1em 0 0.5em; text-align: right; border: none;\">\n",
              "                0.0002\n",
              "                \n",
              "                    &plusmn; 0.0000\n",
              "                \n",
              "            </td>\n",
              "            <td style=\"padding: 0 0.5em 0 0.5em; text-align: left; border: none;\">\n",
              "                price\n",
              "            </td>\n",
              "        </tr>\n",
              "    \n",
              "        <tr style=\"background-color: hsl(0, 100.00%, 98.40%); border: none;\">\n",
              "            <td style=\"padding: 0 1em 0 0.5em; text-align: right; border: none;\">\n",
              "                -0.0000\n",
              "                \n",
              "                    &plusmn; 0.0000\n",
              "                \n",
              "            </td>\n",
              "            <td style=\"padding: 0 0.5em 0 0.5em; text-align: left; border: none;\">\n",
              "                comment\n",
              "            </td>\n",
              "        </tr>\n",
              "    \n",
              "    \n",
              "    </tbody>\n",
              "</table>\n",
              "    \n",
              "\n",
              "    \n",
              "\n",
              "\n",
              "    \n",
              "\n",
              "    \n",
              "\n",
              "    \n",
              "\n",
              "    \n",
              "\n",
              "    \n",
              "\n",
              "    \n",
              "\n",
              "\n",
              "\n"
            ],
            "text/plain": [
              "<IPython.core.display.HTML object>"
            ]
          },
          "metadata": {
            "tags": []
          },
          "execution_count": 25
        }
      ]
    },
    {
      "cell_type": "markdown",
      "metadata": {
        "id": "g89buy33C4GZ",
        "colab_type": "text"
      },
      "source": [
        "# **Exploration**"
      ]
    },
    {
      "cell_type": "code",
      "metadata": {
        "id": "MjHNaQbGC735",
        "colab_type": "code",
        "colab": {
          "base_uri": "https://localhost:8080/",
          "height": 54
        },
        "outputId": "61611e87-d6c6-4b3b-c18f-a29490ef8b0d"
      },
      "source": [
        "\"\"\"\n",
        "PLANS:\n",
        "- Drop 'cryptonia' rows as the scores aren't accurate\n",
        "- Make exploratory visualizations.\n",
        "- Missing dates should be averaged\n",
        "- Date needs to be normalized\n",
        "- SMOTE CLASS BALANCER\n",
        "- Check differences in sentiment between the 6 sites and plot them (normalized)\n",
        "\n",
        "- Feature creation with the comments\n",
        "    spacy sklearn\n",
        "    count vectorizor\n",
        "    tfidf vectorizor\n",
        "    https://scikit-learn.org/stable/modules/generated/sklearn.feature_extraction.text.CountVectorizer.html\n",
        "\"\"\""
      ],
      "execution_count": 39,
      "outputs": [
        {
          "output_type": "execute_result",
          "data": {
            "text/plain": [
              "'\\nPLANS:\\n- Make exploratory visualizations.\\n- Missing dates should be averaged\\n- Date needs to be normalized\\n- SMOTE CLASS BALANCER\\n- Check differences in sentiment between the 6 sites and plot them (normalized)\\n\\n- Feature creation with the comments\\n    spacy sklearn\\n    count vectorizor\\n    tfidf vectorizor\\n    https://scikit-learn.org/stable/modules/generated/sklearn.feature_extraction.text.CountVectorizer.html\\n'"
            ]
          },
          "metadata": {
            "tags": []
          },
          "execution_count": 39
        }
      ]
    },
    {
      "cell_type": "code",
      "metadata": {
        "id": "S1pzgix3Wuln",
        "colab_type": "code",
        "colab": {
          "base_uri": "https://localhost:8080/",
          "height": 197
        },
        "outputId": "df60eaea-f57d-4286-9049-4952b92fdbb9"
      },
      "source": [
        "X_train['comment'] = X_train['comment'].replace({'No feedback left.': '',\n",
        "                            'No feedback comment': '',\n",
        "                            'No Comment': ''})\n",
        "X_train['comment_length'] = [len(x) for x in X_train['comment']]\n",
        "X_train.tail(5)"
      ],
      "execution_count": 38,
      "outputs": [
        {
          "output_type": "execute_result",
          "data": {
            "text/html": [
              "<div>\n",
              "<style scoped>\n",
              "    .dataframe tbody tr th:only-of-type {\n",
              "        vertical-align: middle;\n",
              "    }\n",
              "\n",
              "    .dataframe tbody tr th {\n",
              "        vertical-align: top;\n",
              "    }\n",
              "\n",
              "    .dataframe thead th {\n",
              "        text-align: right;\n",
              "    }\n",
              "</style>\n",
              "<table border=\"1\" class=\"dataframe\">\n",
              "  <thead>\n",
              "    <tr style=\"text-align: right;\">\n",
              "      <th></th>\n",
              "      <th>site</th>\n",
              "      <th>vendor</th>\n",
              "      <th>btc_amount</th>\n",
              "      <th>comment</th>\n",
              "      <th>PriceUSD</th>\n",
              "      <th>date</th>\n",
              "      <th>price</th>\n",
              "      <th>comment_length</th>\n",
              "    </tr>\n",
              "  </thead>\n",
              "  <tbody>\n",
              "    <tr>\n",
              "      <th>219646</th>\n",
              "      <td>Apollon</td>\n",
              "      <td>TheShop</td>\n",
              "      <td>0.001367</td>\n",
              "      <td></td>\n",
              "      <td>7229.397101</td>\n",
              "      <td>1577664000000000000</td>\n",
              "      <td>9.881501</td>\n",
              "      <td>0</td>\n",
              "    </tr>\n",
              "    <tr>\n",
              "      <th>126616</th>\n",
              "      <td>Empire</td>\n",
              "      <td>EUCarder</td>\n",
              "      <td>0.000017</td>\n",
              "      <td></td>\n",
              "      <td>8213.709039</td>\n",
              "      <td>1571529600000000000</td>\n",
              "      <td>0.141276</td>\n",
              "      <td>0</td>\n",
              "    </tr>\n",
              "    <tr>\n",
              "      <th>35859</th>\n",
              "      <td>Cryptonia</td>\n",
              "      <td>pornseller</td>\n",
              "      <td>0.000300</td>\n",
              "      <td>All good</td>\n",
              "      <td>11346.837150</td>\n",
              "      <td>1562976000000000000</td>\n",
              "      <td>3.404051</td>\n",
              "      <td>8</td>\n",
              "    </tr>\n",
              "    <tr>\n",
              "      <th>125620</th>\n",
              "      <td>Empire</td>\n",
              "      <td>DrunkDragon</td>\n",
              "      <td>0.000115</td>\n",
              "      <td>does not work. trash.</td>\n",
              "      <td>7948.477337</td>\n",
              "      <td>1571443200000000000</td>\n",
              "      <td>0.910101</td>\n",
              "      <td>21</td>\n",
              "    </tr>\n",
              "    <tr>\n",
              "      <th>135479</th>\n",
              "      <td>Empire</td>\n",
              "      <td>canjam420</td>\n",
              "      <td>0.001982</td>\n",
              "      <td>yep thats RSO , good stuff</td>\n",
              "      <td>8656.655178</td>\n",
              "      <td>1571961600000000000</td>\n",
              "      <td>17.159222</td>\n",
              "      <td>26</td>\n",
              "    </tr>\n",
              "  </tbody>\n",
              "</table>\n",
              "</div>"
            ],
            "text/plain": [
              "             site       vendor  ...      price comment_length\n",
              "219646    Apollon      TheShop  ...   9.881501              0\n",
              "126616     Empire     EUCarder  ...   0.141276              0\n",
              "35859   Cryptonia   pornseller  ...   3.404051              8\n",
              "125620     Empire  DrunkDragon  ...   0.910101             21\n",
              "135479     Empire    canjam420  ...  17.159222             26\n",
              "\n",
              "[5 rows x 8 columns]"
            ]
          },
          "metadata": {
            "tags": []
          },
          "execution_count": 38
        }
      ]
    },
    {
      "cell_type": "code",
      "metadata": {
        "id": "9vTweUQJfk3Z",
        "colab_type": "code",
        "colab": {
          "base_uri": "https://localhost:8080/",
          "height": 301
        },
        "outputId": "defaa896-f196-485a-a10a-a7cbda821473"
      },
      "source": [
        "pip install spacy"
      ],
      "execution_count": 61,
      "outputs": [
        {
          "output_type": "stream",
          "text": [
            "Requirement already satisfied: spacy in /usr/local/lib/python3.6/dist-packages (2.1.9)\n",
            "Requirement already satisfied: blis<0.3.0,>=0.2.2 in /usr/local/lib/python3.6/dist-packages (from spacy) (0.2.4)\n",
            "Requirement already satisfied: wasabi<1.1.0,>=0.2.0 in /usr/local/lib/python3.6/dist-packages (from spacy) (0.6.0)\n",
            "Requirement already satisfied: plac<1.0.0,>=0.9.6 in /usr/local/lib/python3.6/dist-packages (from spacy) (0.9.6)\n",
            "Requirement already satisfied: murmurhash<1.1.0,>=0.28.0 in /usr/local/lib/python3.6/dist-packages (from spacy) (1.0.2)\n",
            "Requirement already satisfied: preshed<2.1.0,>=2.0.1 in /usr/local/lib/python3.6/dist-packages (from spacy) (2.0.1)\n",
            "Requirement already satisfied: numpy>=1.15.0 in /usr/local/lib/python3.6/dist-packages (from spacy) (1.17.5)\n",
            "Requirement already satisfied: requests<3.0.0,>=2.13.0 in /usr/local/lib/python3.6/dist-packages (from spacy) (2.21.0)\n",
            "Requirement already satisfied: cymem<2.1.0,>=2.0.2 in /usr/local/lib/python3.6/dist-packages (from spacy) (2.0.3)\n",
            "Requirement already satisfied: srsly<1.1.0,>=0.0.6 in /usr/local/lib/python3.6/dist-packages (from spacy) (1.0.1)\n",
            "Requirement already satisfied: thinc<7.1.0,>=7.0.8 in /usr/local/lib/python3.6/dist-packages (from spacy) (7.0.8)\n",
            "Requirement already satisfied: idna<2.9,>=2.5 in /usr/local/lib/python3.6/dist-packages (from requests<3.0.0,>=2.13.0->spacy) (2.8)\n",
            "Requirement already satisfied: chardet<3.1.0,>=3.0.2 in /usr/local/lib/python3.6/dist-packages (from requests<3.0.0,>=2.13.0->spacy) (3.0.4)\n",
            "Requirement already satisfied: urllib3<1.25,>=1.21.1 in /usr/local/lib/python3.6/dist-packages (from requests<3.0.0,>=2.13.0->spacy) (1.24.3)\n",
            "Requirement already satisfied: certifi>=2017.4.17 in /usr/local/lib/python3.6/dist-packages (from requests<3.0.0,>=2.13.0->spacy) (2019.11.28)\n",
            "Requirement already satisfied: tqdm<5.0.0,>=4.10.0 in /usr/local/lib/python3.6/dist-packages (from thinc<7.1.0,>=7.0.8->spacy) (4.28.1)\n"
          ],
          "name": "stdout"
        }
      ]
    },
    {
      "cell_type": "code",
      "metadata": {
        "id": "I-hFyMb6fqP0",
        "colab_type": "code",
        "colab": {
          "base_uri": "https://localhost:8080/",
          "height": 34
        },
        "outputId": "3b23214b-1a1e-4279-bae0-75cc87206e94"
      },
      "source": [
        "from spacy.lang.en import English\n",
        "\n",
        "test_text = \"This is a test sentence. I should be doing this in unit four...\"\n",
        "\n",
        "# Load English tokenizer, tagger, parser, NER and word vectors\n",
        "nlp = English()\n",
        "\n",
        "my_doc = nlp(test_text)\n",
        "\n",
        "token_list = []\n",
        "for token in my_doc:\n",
        "    token_list.append(token.text)\n",
        "print(token_list)"
      ],
      "execution_count": 64,
      "outputs": [
        {
          "output_type": "stream",
          "text": [
            "['This', 'is', 'a', 'test', 'sentence', '.', 'I', 'should', 'be', 'doing', 'this', 'in', 'unit', 'four', '...']\n"
          ],
          "name": "stdout"
        }
      ]
    },
    {
      "cell_type": "markdown",
      "metadata": {
        "id": "YJGHYviruTtn",
        "colab_type": "text"
      },
      "source": [
        "# **Charts**"
      ]
    },
    {
      "cell_type": "code",
      "metadata": {
        "id": "rBFLGFDhXM31",
        "colab_type": "code",
        "colab": {
          "base_uri": "https://localhost:8080/",
          "height": 123
        },
        "outputId": "e0239efe-73d7-4867-b887-7f8ce195b2bb"
      },
      "source": [
        "df['site'].value_counts()"
      ],
      "execution_count": 42,
      "outputs": [
        {
          "output_type": "execute_result",
          "data": {
            "text/plain": [
              "Empire       83008\n",
              "Cannazon     55740\n",
              "Apollon      41456\n",
              "Cryptonia    35223\n",
              "CannaHome     9987\n",
              "Name: site, dtype: int64"
            ]
          },
          "metadata": {
            "tags": []
          },
          "execution_count": 42
        }
      ]
    },
    {
      "cell_type": "code",
      "metadata": {
        "id": "VjWF2kAEXNSI",
        "colab_type": "code",
        "colab": {}
      },
      "source": [
        "# Subsets of the sites\n",
        "empire = df[df['site'] == 'Empire']\n",
        "cannazon = df[df['site'] == 'Cannazon']\n",
        "apollon = df[df['site'] == 'Apollon']\n",
        "cryptonia = df[df['site'] == 'Cryptonia']\n",
        "cannahome = df[df['site'] == 'CannaHome']"
      ],
      "execution_count": 0,
      "outputs": []
    },
    {
      "cell_type": "code",
      "metadata": {
        "id": "prfKqmiQXiRp",
        "colab_type": "code",
        "colab": {
          "base_uri": "https://localhost:8080/",
          "height": 87
        },
        "outputId": "bcbabfc9-b87c-4409-c938-bd1ac93f114d"
      },
      "source": [
        "empire['score'].value_counts(normalize=True)"
      ],
      "execution_count": 46,
      "outputs": [
        {
          "output_type": "execute_result",
          "data": {
            "text/plain": [
              " 1    0.856219\n",
              "-1    0.075186\n",
              " 0    0.068596\n",
              "Name: score, dtype: float64"
            ]
          },
          "metadata": {
            "tags": []
          },
          "execution_count": 46
        }
      ]
    },
    {
      "cell_type": "code",
      "metadata": {
        "id": "bZhlTd5MYAq7",
        "colab_type": "code",
        "colab": {
          "base_uri": "https://localhost:8080/",
          "height": 87
        },
        "outputId": "fa408424-1d69-4cde-826f-fea3120c140b"
      },
      "source": [
        "cannazon['score'].value_counts(normalize=True)"
      ],
      "execution_count": 47,
      "outputs": [
        {
          "output_type": "execute_result",
          "data": {
            "text/plain": [
              " 1    0.981826\n",
              " 0    0.013348\n",
              "-1    0.004826\n",
              "Name: score, dtype: float64"
            ]
          },
          "metadata": {
            "tags": []
          },
          "execution_count": 47
        }
      ]
    },
    {
      "cell_type": "code",
      "metadata": {
        "id": "CV6hiHW4Yaop",
        "colab_type": "code",
        "colab": {
          "base_uri": "https://localhost:8080/",
          "height": 87
        },
        "outputId": "bea0e5ef-659c-455a-d07e-84ddd4bd99f0"
      },
      "source": [
        "apollon['score'].value_counts(normalize=True)"
      ],
      "execution_count": 53,
      "outputs": [
        {
          "output_type": "execute_result",
          "data": {
            "text/plain": [
              " 1    0.982102\n",
              "-1    0.016644\n",
              " 0    0.001254\n",
              "Name: score, dtype: float64"
            ]
          },
          "metadata": {
            "tags": []
          },
          "execution_count": 53
        }
      ]
    },
    {
      "cell_type": "code",
      "metadata": {
        "id": "-KYNWJllaxJf",
        "colab_type": "code",
        "colab": {
          "base_uri": "https://localhost:8080/",
          "height": 87
        },
        "outputId": "76e47d2f-88e7-4923-bb6b-7fdb090a8dd3"
      },
      "source": [
        "cannahome['score'].value_counts(normalize=True)"
      ],
      "execution_count": 59,
      "outputs": [
        {
          "output_type": "execute_result",
          "data": {
            "text/plain": [
              " 1    0.983278\n",
              " 0    0.013618\n",
              "-1    0.003104\n",
              "Name: score, dtype: float64"
            ]
          },
          "metadata": {
            "tags": []
          },
          "execution_count": 59
        }
      ]
    },
    {
      "cell_type": "code",
      "metadata": {
        "id": "7TqPk_sDycQg",
        "colab_type": "code",
        "colab": {}
      },
      "source": [
        "\"\"\" PLOT \"\"\"\n",
        "import matplotlib.pyplot as plt"
      ],
      "execution_count": 0,
      "outputs": []
    }
  ]
}